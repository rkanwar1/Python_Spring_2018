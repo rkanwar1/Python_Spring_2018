{
 "cells": [
  {
   "cell_type": "code",
   "execution_count": 7,
   "metadata": {},
   "outputs": [
    {
     "name": "stdout",
     "output_type": "stream",
     "text": [
      "/////////////////////////////////////////////\n",
      " \n",
      "Scalar datatypes are passed by value.\n",
      " \n",
      "The value of 'a' is : 1\n",
      "The value of 'a' is now:  1\n",
      " \n",
      "The value of 'a' is : 10.2\n",
      "The value of 'a' is now:  10.2\n",
      " \n",
      "/////////////////////////////////////////////\n",
      " \n",
      "Entire lists are passed by reference.\n",
      "The value of 'a' is : [5, 7]\n",
      "The value of 'a' is now:  [1, 7]\n",
      " \n",
      "Sub-lists are passed by value.\n",
      "The value of 'a' is now:  [1, 7]\n",
      " \n",
      "/////////////////////////////////////////////\n",
      " \n",
      "Objects are passed by reference.\n",
      "My value is:  1\n",
      "My value is:  3\n",
      "My value is:  4\n"
     ]
    }
   ],
   "source": [
    "class MyClass:\n",
    "    def __init__(self):\n",
    "        self.val=1\n",
    "    def setval(self,newval):\n",
    "        self.val=newval\n",
    "    def printval(self):\n",
    "        print(\"My value is: \", self.val)\n",
    "\n",
    "def modobj1(obj):\n",
    "    \"\"\"Side effect: alters the value of obj.val\"\"\"\n",
    "    obj.val=3\n",
    "def modobj2(obj):\n",
    "    \"\"\"Side effect: alters the value of obj.val\"\"\"\n",
    "    obj.setval(4)\n",
    "def modscalar(a):\n",
    "    \"\"\"No side effects. Only the local value of a is altered.\"\"\"\n",
    "    a=2\n",
    "def modlist(a):\n",
    "    \"\"\"Side effect: alters the value of a[0]\"\"\"\n",
    "    a[0]=1\n",
    "\n",
    "print(\"/////////////////////////////////////////////\")\n",
    "print(\" \")\n",
    "print(\"Scalar datatypes are passed by value.\")\n",
    "print(\" \")\n",
    "a=1\n",
    "print(\"The value of 'a' is :\", a)\n",
    "modscalar(a)\n",
    "print(\"The value of 'a' is now: \", a)\n",
    "print(\" \")\n",
    "a=10.2\n",
    "print(\"The value of 'a' is :\", a)\n",
    "modscalar(a)\n",
    "print(\"The value of 'a' is now: \", a)\n",
    "print(\" \")\n",
    "\n",
    "print(\"/////////////////////////////////////////////\")\n",
    "print(\" \")\n",
    "print(\"Entire lists are passed by reference.\")\n",
    "a=[5, 7]\n",
    "print(\"The value of 'a' is :\", a)\n",
    "modlist(a)\n",
    "print(\"The value of 'a' is now: \", a)\n",
    "\n",
    "print(\" \")\n",
    "print(\"Sub-lists are passed by value.\")\n",
    "modscalar(a[1])\n",
    "print(\"The value of 'a' is now: \", a)\n",
    "print(\" \")\n",
    "\n",
    "print(\"/////////////////////////////////////////////\")\n",
    "print(\" \")\n",
    "print(\"Objects are passed by reference.\")\n",
    "myobj=MyClass()\n",
    "\n",
    "myobj.printval()\n",
    "modobj1(myobj)\n",
    "myobj.printval()\n",
    "\n",
    "modobj2(myobj)\n",
    "myobj.printval()\n"
   ]
  },
  {
   "cell_type": "code",
   "execution_count": 3,
   "metadata": {},
   "outputs": [
    {
     "name": "stdout",
     "output_type": "stream",
     "text": [
      "1\n",
      "1\n",
      "1\n"
     ]
    }
   ],
   "source": [
    "def getdiff(a,b):\n",
    "    c = a-b\n",
    "    return c\n",
    "def getdiff2(a,b):\n",
    "    return a-b\n",
    "\n",
    "print(getdiff(2,1))\n",
    "print(getdiff2(2,1))\n",
    "e = getdiff(2,1)\n",
    "print(e)"
   ]
  },
  {
   "cell_type": "code",
   "execution_count": 9,
   "metadata": {},
   "outputs": [
    {
     "name": "stdout",
     "output_type": "stream",
     "text": [
      "      main:  a =   5 b =  6 c =  7\n",
      " function1:  a =   1 b =  3 c =  7\n",
      " function2:  a =  -1 b =  6 c =  7\n",
      "function2a:  a =  -1 b =  3 c =  7\n"
     ]
    }
   ],
   "source": [
    "def function1():\n",
    "    a = 1\n",
    "    b = 3\n",
    "    print(' function1: ', 'a =  ', a, 'b = ', b, 'c = ', c)\n",
    "    function2()\n",
    "    \n",
    "def function2():\n",
    "    a = -1\n",
    "    print(' function2: ', 'a = ', a, 'b = ', b, 'c = ', c)\n",
    "\n",
    "def function3():\n",
    "    def function2():\n",
    "        a = -1\n",
    "        print('function2a: ', 'a = ', a, 'b = ', b, 'c = ', c)\n",
    "    a = 1\n",
    "    b = 3\n",
    "    function2()\n",
    "\n",
    "\n",
    "\n",
    "a=5\n",
    "b=6\n",
    "c=7\n",
    "#The print statement below sees the values of a,b,c defined in the main program.\n",
    "print('      main: ', 'a =  ', a, 'b = ', b, 'c = ', c)\n",
    "\n",
    "#Function1 contains a local definition of a, and b\n",
    "#...function1 retrieves the value of c from the main program, where it was defined\n",
    "#Function2 is called from within function1.  Function2 contains a local definition of a.\n",
    "#...function2 retrieves the values of b and c from the main program, where it was defined.\n",
    "function1()\n",
    "\n",
    "#When function3 is called, it defines values for a and b.\n",
    "#Function3 calls function2a, which defines a value for a.\n",
    "#...function2a retrieves its value of b from function3, where it was defined.\n",
    "#...function2a retreives its value of c from the main program, where function3 was defined. \n",
    "function3()"
   ]
  },
  {
   "cell_type": "code",
   "execution_count": 11,
   "metadata": {},
   "outputs": [
    {
     "name": "stdout",
     "output_type": "stream",
     "text": [
      "func1:  2\n"
     ]
    },
    {
     "ename": "UnboundLocalError",
     "evalue": "local variable 'a' referenced before assignment",
     "output_type": "error",
     "traceback": [
      "\u001b[0;31m---------------------------------------------------------------------------\u001b[0m",
      "\u001b[0;31mUnboundLocalError\u001b[0m                         Traceback (most recent call last)",
      "\u001b[0;32m<ipython-input-11-68dff1503973>\u001b[0m in \u001b[0;36m<module>\u001b[0;34m()\u001b[0m\n\u001b[1;32m      5\u001b[0m \u001b[0ma\u001b[0m \u001b[0;34m=\u001b[0m \u001b[0;36m2\u001b[0m\u001b[0;34m\u001b[0m\u001b[0m\n\u001b[1;32m      6\u001b[0m \u001b[0mfunc1\u001b[0m\u001b[0;34m(\u001b[0m\u001b[0;34m)\u001b[0m\u001b[0;34m\u001b[0m\u001b[0m\n\u001b[0;32m----> 7\u001b[0;31m \u001b[0mfunc2\u001b[0m\u001b[0;34m(\u001b[0m\u001b[0;34m)\u001b[0m\u001b[0;34m\u001b[0m\u001b[0m\n\u001b[0m\u001b[1;32m      8\u001b[0m \u001b[0mprint\u001b[0m\u001b[0;34m(\u001b[0m\u001b[0ma\u001b[0m\u001b[0;34m)\u001b[0m\u001b[0;34m\u001b[0m\u001b[0m\n",
      "\u001b[0;32m<ipython-input-11-68dff1503973>\u001b[0m in \u001b[0;36mfunc2\u001b[0;34m()\u001b[0m\n\u001b[1;32m      2\u001b[0m     \u001b[0mprint\u001b[0m\u001b[0;34m(\u001b[0m\u001b[0;34m'func1: '\u001b[0m\u001b[0;34m,\u001b[0m\u001b[0ma\u001b[0m\u001b[0;34m)\u001b[0m\u001b[0;34m\u001b[0m\u001b[0m\n\u001b[1;32m      3\u001b[0m \u001b[0;32mdef\u001b[0m \u001b[0mfunc2\u001b[0m\u001b[0;34m(\u001b[0m\u001b[0;34m)\u001b[0m\u001b[0;34m:\u001b[0m\u001b[0;34m\u001b[0m\u001b[0m\n\u001b[0;32m----> 4\u001b[0;31m     \u001b[0ma\u001b[0m \u001b[0;34m=\u001b[0m \u001b[0ma\u001b[0m \u001b[0;34m+\u001b[0m \u001b[0;36m1\u001b[0m\u001b[0;34m\u001b[0m\u001b[0m\n\u001b[0m\u001b[1;32m      5\u001b[0m \u001b[0ma\u001b[0m \u001b[0;34m=\u001b[0m \u001b[0;36m2\u001b[0m\u001b[0;34m\u001b[0m\u001b[0m\n\u001b[1;32m      6\u001b[0m \u001b[0mfunc1\u001b[0m\u001b[0;34m(\u001b[0m\u001b[0;34m)\u001b[0m\u001b[0;34m\u001b[0m\u001b[0m\n",
      "\u001b[0;31mUnboundLocalError\u001b[0m: local variable 'a' referenced before assignment"
     ]
    }
   ],
   "source": [
    "def func1():\n",
    "    print('func1: ',a)\n",
    "def func2():\n",
    "    a = a + 1\n",
    "a = 2\n",
    "func1()\n",
    "func2()\n",
    "print(a)"
   ]
  },
  {
   "cell_type": "code",
   "execution_count": 12,
   "metadata": {},
   "outputs": [
    {
     "name": "stdout",
     "output_type": "stream",
     "text": [
      " True and False =  False\n",
      " True and  True =  True\n",
      "False and False =  False\n",
      " \n",
      " True or False =  True\n",
      " True or  True =  True\n",
      "False or False =  False\n",
      " \n",
      " not  True =  False\n",
      " not False =  True\n"
     ]
    }
   ],
   "source": [
    "a = True\n",
    "b = False\n",
    "#and\n",
    "print(\" True and False = \" , a and b)\n",
    "print(\" True and  True = \"  , a and a)\n",
    "print(\"False and False = \",b and b)\n",
    "print(\" \")\n",
    "#or\n",
    "print(\" True or False = \"  , a or b)\n",
    "print(\" True or  True = \"  , a or a)\n",
    "print(\"False or False = \"  ,b or b)\n",
    "print(\" \")\n",
    "#not\n",
    "print(\" not  True = \", not a)\n",
    "print(\" not False = \", not b)\n"
   ]
  },
  {
   "cell_type": "code",
   "execution_count": 13,
   "metadata": {},
   "outputs": [
    {
     "name": "stdout",
     "output_type": "stream",
     "text": [
      "a =  1\n",
      "b =  2\n",
      "The statement   a > b   is:  False\n",
      "The statement   a < b   is:  True\n",
      "The statement   a == b  is:  False\n",
      "The statement   a != b  is:  True\n",
      "The statement   a >= b  is:  False\n",
      "The statement   a <= b  is:  True\n"
     ]
    }
   ],
   "source": [
    "a = 1\n",
    "b = 2\n",
    "\n",
    "print(\"a = \", a)\n",
    "print(\"b = \", b)\n",
    "prefix = \"The statement \"\n",
    "\n",
    "stat = \" a > b \"\n",
    "print(prefix,stat,' is: ', a > b)\n",
    "\n",
    "stat = \" a < b \"\n",
    "print(prefix,stat,' is: ', a < b)\n",
    "\n",
    "stat = \" a == b \"\n",
    "print(prefix,stat,'is: ', a == b)\n",
    "\n",
    "stat = \" a != b \"\n",
    "print(prefix,stat,'is: ', a != b)\n",
    "\n",
    "stat = \" a >= b \"\n",
    "print(prefix,stat,'is: ', a >= b)\n",
    "\n",
    "stat = \" a <= b \"\n",
    "print(prefix,stat,'is: ', a <= b)"
   ]
  },
  {
   "cell_type": "code",
   "execution_count": 17,
   "metadata": {},
   "outputs": [
    {
     "name": "stdout",
     "output_type": "stream",
     "text": [
      "Enter a number: 83\n",
      "m is positive\n"
     ]
    }
   ],
   "source": [
    "def ispositive1(a):\n",
    "    if ( a >=0):\n",
    "        return True\n",
    "        print(a)\n",
    "    return False\n",
    "\n",
    "def ispositive2(a):\n",
    "    ans = False\n",
    "    if (a >= 0):\n",
    "        ans = True\n",
    "    return ans\n",
    "\n",
    "def ispositive3(a):\n",
    "    if (a >= 0):\n",
    "        return True\n",
    "    else:\n",
    "        return False\n",
    "    \n",
    "m = int( input(\"Enter a number: \") )\n",
    "ans = ispositive3(m)\n",
    "msg = 'm is negative'\n",
    "if (ans):\n",
    "    msg = 'm is positive'\n",
    "print(msg)\n",
    "\n",
    "\n",
    "\n",
    "\n"
   ]
  },
  {
   "cell_type": "code",
   "execution_count": 19,
   "metadata": {},
   "outputs": [
    {
     "name": "stdout",
     "output_type": "stream",
     "text": [
      "-1 is less than 1 and 2\n"
     ]
    }
   ],
   "source": [
    "def msgme(a):\n",
    "    if (a > 1):\n",
    "        print(str(a)+' is greater than 1')\n",
    "    elif (a > 2):\n",
    "        print(str(a)+' is greater than 2')\n",
    "    else:\n",
    "        print(str(a)+' is less than 1 and 2')\n",
    "msgme(-1)\n"
   ]
  },
  {
   "cell_type": "code",
   "execution_count": 29,
   "metadata": {},
   "outputs": [
    {
     "name": "stdout",
     "output_type": "stream",
     "text": [
      "Enter m: 1024\n",
      "541852879605885728307692194468385473800155396353801344448287027068321061207337660373314098413621458671907918845708980753931994165770187368260454133333721939108367528012764993769768292516937891165755680659663747947314518404886677672556125188694335251213677274521963430770133713205796248433128870088436171654690237518390452944732277808402932158722061853806162806063925435310822186848239287130261690914211362251144684713888587881629252104046295315949943900357882410243934315037444113890806181406210863953275235375885018598451582229599654558541242789130902486944298610923153307579131675745146436304024890820442907734561827369030502252796926553072967370990758747793127635104702469889667961462133026237158973227857814631807156427767644064591085076564783456324457736853810336981776080498707767046394272605341416779125697733374568037475186676265961665615884681450263337042522664141862157046825684773360944326737493676674915098953768112945831626643856479027816385730291542667725665642276826058264393884514911976419675509290208592713156362983290989441052732125187249527501314071676405516936190781821236701912295767363117054126589929916482008515781751955466910902838729232224509906388638147771255227782631322385756948819393658889908993670874516860653098411020299853816281564334981847105777839534742531499622103488807584513705769839763993103929665046046121166651345131149513657400869056334867859885025601787284982567787314407216524272262997319791568603629406624740101482697559533155736658800562921274680657285201570401940692285557800611429055755324549794008939849146812639860750085263298820224719585505344773711590656682821041417265040658600683844945104354998812886801316551551714673388323340851763819713591312372548673734783537316341517369387565212899726597964903241208727348690699802996369265070088758384854547542272771024255049902319275830918157448205196421072837204937293516175341957775422453152442280391372407717891661203061040255830055033886790052116025408740454620938384367637886658769912790922323717371343176067483352513629123362885893627132294183565884010418727869354439077085278288558308427090461075019007184933139915558212752392329879780649639075333845719173822840501869570463626600235265587502335595489311637509380219119860471335771652403999403296360245577257963673286654348957325740999710567131623272345766761937651408103999193633908286420510098577454524068106897392493138287362226257920000000000000000000000000000000000000000000000000000000000000000000000000000000000000000000000000000000000000000000000000000000000000000000000000000000000000000000000000000000000000000000000000000000000000000000000000000000000000000000000000000000000000\n",
      "524800\n"
     ]
    }
   ],
   "source": [
    "import sys\n",
    "def factorial(n):\n",
    "    if (n <= 1):\n",
    "        return 1\n",
    "    else:\n",
    "        return n*factorial(n-1)\n",
    "\n",
    "def sumn(n):\n",
    "    if (n <= 1):\n",
    "        return 1\n",
    "    else:\n",
    "        return n+sumn(n-1)   \n",
    "\n",
    "m = int(input('Enter m: '))\n",
    "sys.setrecursionlimit(2*(m+2))\n",
    "print(factorial(m))\n",
    "print(sumn(m))\n"
   ]
  },
  {
   "cell_type": "code",
   "execution_count": 31,
   "metadata": {},
   "outputs": [
    {
     "name": "stdout",
     "output_type": "stream",
     "text": [
      "aa is undefined.  Setting aa to 1\n",
      "bb is:  3\n"
     ]
    }
   ],
   "source": [
    "try:\n",
    "    bb = aa+2\n",
    "except:\n",
    "    print('aa is undefined.  Setting aa to 1')\n",
    "    aa = 1\n",
    "    bb = aa+2\n",
    "print('bb is: ', bb)"
   ]
  },
  {
   "cell_type": "code",
   "execution_count": null,
   "metadata": {
    "collapsed": true
   },
   "outputs": [],
   "source": []
  }
 ],
 "metadata": {
  "kernelspec": {
   "display_name": "Python 3",
   "language": "python",
   "name": "python3"
  },
  "language_info": {
   "codemirror_mode": {
    "name": "ipython",
    "version": 3
   },
   "file_extension": ".py",
   "mimetype": "text/x-python",
   "name": "python",
   "nbconvert_exporter": "python",
   "pygments_lexer": "ipython3",
   "version": "3.5.3"
  }
 },
 "nbformat": 4,
 "nbformat_minor": 2
}
